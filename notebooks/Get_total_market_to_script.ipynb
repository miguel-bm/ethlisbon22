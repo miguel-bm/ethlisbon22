{
 "cells": [
  {
   "cell_type": "code",
   "execution_count": 2,
   "metadata": {},
   "outputs": [],
   "source": [
    "import pandas as pd\n",
    "import json \n",
    "import numpy as np\n",
    "from collections import OrderedDict"
   ]
  },
  {
   "cell_type": "code",
   "execution_count": 4,
   "metadata": {},
   "outputs": [
    {
     "name": "stderr",
     "output_type": "stream",
     "text": [
      "/tmp/ipykernel_51288/2673669588.py:2: FutureWarning: The default value of regex will change from True to False in a future version. In addition, single character regular expressions will *not* be treated as literal strings when regex=True.\n",
      "  df[\"2% Depth\"] = pd.to_numeric(df[\"2% Depth\"].str.replace(\",\",\"\").str.replace(\"$\",\"\"))\n",
      "/tmp/ipykernel_51288/2673669588.py:3: FutureWarning: The default value of regex will change from True to False in a future version. In addition, single character regular expressions will *not* be treated as literal strings when regex=True.\n",
      "  df[\"-2% Depth\"] = pd.to_numeric(df[\"-2% Depth\"].str.replace(\",\",\"\").str.replace(\"$\",\"\"))\n"
     ]
    }
   ],
   "source": [
    "df = pd.read_csv(\"additional_data/total_markets_coingecko.csv\")\n",
    "df[\"2% Depth\"] = pd.to_numeric(df[\"2% Depth\"].str.replace(\",\",\"\").str.replace(\"$\",\"\"))\n",
    "df[\"-2% Depth\"] = pd.to_numeric(df[\"-2% Depth\"].str.replace(\",\",\"\").str.replace(\"$\",\"\"))\n",
    "df.head(2)\n",
    "\n",
    "def get_total_market_1(x):\n",
    "    return x*1.02*100\n",
    "\n",
    "def get_total_market_2(x):\n",
    "    return x*0.98*100\n",
    "\n",
    "df[\"Total market 1\"] = df[\"2% Depth\"].apply(get_total_market_2)\n",
    "df[\"Total market 2\"] = df[\"-2% Depth\"].apply(get_total_market_1)\n",
    "df[\"Total market\"] = (df[\"Total market 1\"] + df[\"Total market 2\"])/2\n",
    "\n",
    "total_market = df[df.Pair.str.contains(\"/US\")][\"Total market\"].sum()\n",
    "\n",
    "def get_slippage_dollars(x,market= total_market):\n",
    "    return 1/(1+2*x/market)"
   ]
  },
  {
   "cell_type": "code",
   "execution_count": 39,
   "metadata": {},
   "outputs": [],
   "source": [
    "RATIO_COMPOUND_INDUSTRY = 0.1\n",
    "LIQUIDATION_THESHOLD = 1\n",
    "def impact_lower_price(price_change):\n",
    "    \n",
    "    eth_compound = json.load(open(\"additional_data/ethereum_compound.json\"))\n",
    "    users_with_markets = [i for i in eth_compound[\"users\"] if len(i[\"markets\"])>0]#clean empty users\n",
    "\n",
    "\n",
    "    m_status = json.load(open(\"additional_data/compmound_markets_status.json\"))\n",
    "    m_dict = dict(zip([i  for i in m_status], [m_status[i][\"symbol\"] for i in m_status]))\n",
    "    \n",
    "    # get the ratio of collateral that ETH represents\n",
    "    collaterals = []\n",
    "    values = []\n",
    "    for k in m_dict.keys(): \n",
    "        users_with_markets = [i for i in eth_compound[\"users\"] if len(i[\"markets\"])>0]\n",
    "        collaterals.append(m_dict[k])\n",
    "        values.append(np.sum([i[\"markets\"][0][\"collateral\"] for i in users_with_markets if i[\"markets\"][0][\"market\"]==k ]))\n",
    "    df_collaterals = pd.DataFrame({\"collateral\": collaterals, \"value\": values})\n",
    "    df_collaterals_ns = df_collaterals[~df_collaterals.collateral.isin([\"DAI\",\"USDC\",\"USDT\",\"TUSD\"])]\n",
    "    df_collaterals_ns.value = df_collaterals_ns.value/df_collaterals_ns.value.sum()\n",
    "\n",
    "    ratio_eth = df_collaterals_ns[df_collaterals_ns.collateral==\"ETH\"].values[0][1]\n",
    "    \n",
    "    # discount stablecoins\n",
    "    stable_coins_markets = [\"0x5d3a536E4D6DbD6114cc1Ead35777bAB948E3643\",\"0x39AA39c021dfbaE8faC545936693aC917d5E7563\",\n",
    "                            \"0xf650C3d88D12dB855b8bf7D11Be6C55A4e07dCC9\",\"0x12392F67bdf24faE0AF363c24aC620a2f67DAd86\"]\n",
    "\n",
    "    def get_stable_coins (x):\n",
    "        return np.sum([i[\"collateral\"] for i in x[\"markets\"] if i[\"market\"] in stable_coins_markets])\n",
    "\n",
    "\n",
    "    users_with_markets_and_stable_collat = [\n",
    "        {**user_data, **{\"stable_collateral\": get_stable_coins(user_data)}} \n",
    "        for user_data in users_with_markets\n",
    "    ]\n",
    "\n",
    "    users_with_markets_and_stable_collat_with_liquidation = [\n",
    "        {**user_data, **{\"liquidation_value\": (user_data[\"debt\"]-(user_data[\"stable_collateral\"]))/LIQUIDATION_THESHOLD}} \n",
    "        for user_data in users_with_markets_and_stable_collat\n",
    "    ]\n",
    "\n",
    "    users_with_markets_and_stable_collat_with_liquidation = [u for u in users_with_markets_and_stable_collat_with_liquidation if u[\"liquidation_value\"]>0]\n",
    "\n",
    "    def get_liquidation_percentage(x, y):\n",
    "        return y/x\n",
    "\n",
    "    users_with_markets_and_stable_collat_with_liquidation = [\n",
    "        {**user_data, **{\"liquidation_perc\": get_liquidation_percentage(user_data[\"collateral\"]-user_data[\"stable_collateral\"],user_data[\"liquidation_value\"])}} \n",
    "        for user_data in users_with_markets_and_stable_collat_with_liquidation\n",
    "    ]\n",
    "\n",
    "    df_users = pd.DataFrame(users_with_markets_and_stable_collat_with_liquidation)\n",
    "    df_users['eth_collateral'] = df_users['collateral'] - df_users[\"stable_collateral\"]\n",
    "    df_users = df_users[(df_users.eth_collateral>0)&(df_users.netValue>0)].sort_values(\"liquidation_perc\",ascending=False)\n",
    "\n",
    "    df_users['total_liquidation'] = df_users['eth_collateral'].cumsum()*ratio_eth # the amount of ETH that will be liquidated and sold is 80% of the collateral\n",
    "    df_users[\"price_change\"] = 1 - df_users[\"liquidation_perc\"]\n",
    "    \n",
    "    df_users['liquidation_slippage'] = get_slippage_dollars(df_users['total_liquidation']/RATIO_COMPOUND_INDUSTRY,total_market) # tenemos que añadir la proporcion de esto del mercado \n",
    "    df_users['price_after_slippage'] = df_users['liquidation_perc']*df_users['liquidation_slippage']\n",
    "    \n",
    "    market_effects = {\n",
    "        'price_change':df_users[df_users.price_change>price_change]['price_change'].head(1).values[0],\n",
    "        'total_liquidation':df_users[df_users.price_change>price_change]['total_liquidation'].head(1).values[0],\n",
    "        'liquidation_slippage':df_users[df_users.price_change>price_change]['liquidation_slippage'].head(1).values[0] #this is the multiplier of the price\n",
    "\n",
    "    }\n",
    "\n",
    "\n",
    "    return market_effects"
   ]
  },
  {
   "cell_type": "code",
   "execution_count": 41,
   "metadata": {},
   "outputs": [
    {
     "name": "stderr",
     "output_type": "stream",
     "text": [
      "/tmp/ipykernel_51288/1614480277.py:21: SettingWithCopyWarning: \n",
      "A value is trying to be set on a copy of a slice from a DataFrame.\n",
      "Try using .loc[row_indexer,col_indexer] = value instead\n",
      "\n",
      "See the caveats in the documentation: https://pandas.pydata.org/pandas-docs/stable/user_guide/indexing.html#returning-a-view-versus-a-copy\n",
      "  df_collaterals_ns.value = df_collaterals_ns.value/df_collaterals_ns.value.sum()\n",
      "/tmp/ipykernel_51288/1614480277.py:46: RuntimeWarning: divide by zero encountered in double_scalars\n",
      "  return y/x\n"
     ]
    },
    {
     "data": {
      "text/plain": [
       "{'price_change': 0.8105125780969485,\n",
       " 'total_liquidation': 650161137.1952503,\n",
       " 'liquidation_slippage': 0.72580727201062}"
      ]
     },
     "execution_count": 41,
     "metadata": {},
     "output_type": "execute_result"
    }
   ],
   "source": [
    "market_effects = impact_lower_price(0.81)\n",
    "market_effects "
   ]
  },
  {
   "cell_type": "code",
   "execution_count": 16,
   "metadata": {},
   "outputs": [
    {
     "name": "stderr",
     "output_type": "stream",
     "text": [
      "/tmp/ipykernel_51288/1020974919.py:19: SettingWithCopyWarning: \n",
      "A value is trying to be set on a copy of a slice from a DataFrame.\n",
      "Try using .loc[row_indexer,col_indexer] = value instead\n",
      "\n",
      "See the caveats in the documentation: https://pandas.pydata.org/pandas-docs/stable/user_guide/indexing.html#returning-a-view-versus-a-copy\n",
      "  df_collaterals_ns.value = df_collaterals_ns.value/df_collaterals_ns.value.sum()\n",
      "/tmp/ipykernel_51288/1020974919.py:51: RuntimeWarning: divide by zero encountered in double_scalars\n",
      "  return y/x\n"
     ]
    },
    {
     "data": {
      "text/plain": [
       "(array([641030.20229247]), array([0.80006795]))"
      ]
     },
     "execution_count": 16,
     "metadata": {},
     "output_type": "execute_result"
    }
   ],
   "source": [
    "impact_lower_price(0.2)"
   ]
  },
  {
   "cell_type": "code",
   "execution_count": 530,
   "metadata": {},
   "outputs": [
    {
     "data": {
      "text/plain": [
       "array(1.34350554e+08)"
      ]
     },
     "execution_count": 530,
     "metadata": {},
     "output_type": "execute_result"
    }
   ],
   "source": [
    "f_liquidation(0.5)"
   ]
  },
  {
   "cell_type": "code",
   "execution_count": 528,
   "metadata": {},
   "outputs": [
    {
     "data": {
      "text/plain": [
       "array(0.91809126)"
      ]
     },
     "execution_count": 528,
     "metadata": {},
     "output_type": "execute_result"
    }
   ],
   "source": [
    "f_price_after_slippage(0.9)"
   ]
  }
 ],
 "metadata": {
  "kernelspec": {
   "display_name": "Python 3.10.5 ('ethlisbon22-yF6wyS6a')",
   "language": "python",
   "name": "python3"
  },
  "language_info": {
   "codemirror_mode": {
    "name": "ipython",
    "version": 3
   },
   "file_extension": ".py",
   "mimetype": "text/x-python",
   "name": "python",
   "nbconvert_exporter": "python",
   "pygments_lexer": "ipython3",
   "version": "3.10.5"
  },
  "orig_nbformat": 4,
  "vscode": {
   "interpreter": {
    "hash": "0a4c9f3a32810f43826d5c81629ac0561c69b47e7926c38eea90978f2bfad3c8"
   }
  }
 },
 "nbformat": 4,
 "nbformat_minor": 2
}
