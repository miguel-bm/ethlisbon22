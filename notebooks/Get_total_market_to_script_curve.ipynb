{
 "cells": [
  {
   "cell_type": "code",
   "execution_count": 1,
   "metadata": {},
   "outputs": [],
   "source": [
    "import pandas as pd\n",
    "import json \n",
    "import numpy as np\n",
    "from collections import OrderedDict"
   ]
  },
  {
   "cell_type": "code",
   "execution_count": 2,
   "metadata": {},
   "outputs": [],
   "source": [
    "json_compound = \"additional_data/ethereum_compound.json\""
   ]
  },
  {
   "cell_type": "code",
   "execution_count": 3,
   "metadata": {},
   "outputs": [
    {
     "name": "stderr",
     "output_type": "stream",
     "text": [
      "/tmp/ipykernel_4854/2673669588.py:2: FutureWarning: The default value of regex will change from True to False in a future version. In addition, single character regular expressions will *not* be treated as literal strings when regex=True.\n",
      "  df[\"2% Depth\"] = pd.to_numeric(df[\"2% Depth\"].str.replace(\",\",\"\").str.replace(\"$\",\"\"))\n",
      "/tmp/ipykernel_4854/2673669588.py:3: FutureWarning: The default value of regex will change from True to False in a future version. In addition, single character regular expressions will *not* be treated as literal strings when regex=True.\n",
      "  df[\"-2% Depth\"] = pd.to_numeric(df[\"-2% Depth\"].str.replace(\",\",\"\").str.replace(\"$\",\"\"))\n"
     ]
    }
   ],
   "source": [
    "df = pd.read_csv(\"additional_data/Total market.csv\")\n",
    "df[\"2% Depth\"] = pd.to_numeric(df[\"2% Depth\"].str.replace(\",\",\"\").str.replace(\"$\",\"\"))\n",
    "df[\"-2% Depth\"] = pd.to_numeric(df[\"-2% Depth\"].str.replace(\",\",\"\").str.replace(\"$\",\"\"))\n",
    "df.head(2)\n",
    "\n",
    "def get_total_market_1(x):\n",
    "    return x*1.02*100\n",
    "\n",
    "def get_total_market_2(x):\n",
    "    return x*0.98*100\n",
    "\n",
    "df[\"Total market 1\"] = df[\"2% Depth\"].apply(get_total_market_2)\n",
    "df[\"Total market 2\"] = df[\"-2% Depth\"].apply(get_total_market_1)\n",
    "df[\"Total market\"] = (df[\"Total market 1\"] + df[\"Total market 2\"])/2\n",
    "\n",
    "total_market = df[df.Pair.str.contains(\"/US\")][\"Total market\"].sum()\n",
    "\n",
    "def get_slippage_dollars(x,market= total_market):\n",
    "    return 1/(1+2*x/market)"
   ]
  },
  {
   "cell_type": "code",
   "execution_count": 5,
   "metadata": {},
   "outputs": [
    {
     "name": "stderr",
     "output_type": "stream",
     "text": [
      "/tmp/ipykernel_4854/360321197.py:20: SettingWithCopyWarning: \n",
      "A value is trying to be set on a copy of a slice from a DataFrame.\n",
      "Try using .loc[row_indexer,col_indexer] = value instead\n",
      "\n",
      "See the caveats in the documentation: https://pandas.pydata.org/pandas-docs/stable/user_guide/indexing.html#returning-a-view-versus-a-copy\n",
      "  df_collaterals_ns.value = df_collaterals_ns.value/df_collaterals_ns.value.sum()\n",
      "/tmp/ipykernel_4854/360321197.py:45: RuntimeWarning: divide by zero encountered in double_scalars\n",
      "  return y/x\n"
     ]
    }
   ],
   "source": [
    "RATIO_COMPOUND_INDUSTRY = 0.1\n",
    "LIQUIDATION_THESHOLD = 1\n",
    "\n",
    "\n",
    "eth_compound = json.load(open(json_compound))\n",
    "users_with_markets = [i for i in eth_compound[\"users\"] if len(i[\"markets\"])>0]#clean empty users\n",
    "\n",
    "m_status = json.load(open(\"additional_data/compmound_markets_status.json\"))\n",
    "m_dict = dict(zip([i  for i in m_status], [m_status[i][\"symbol\"] for i in m_status]))\n",
    "\n",
    "# get the ratio of collateral that ETH represents\n",
    "collaterals = []\n",
    "values = []\n",
    "for k in m_dict.keys(): \n",
    "    users_with_markets = [i for i in eth_compound[\"users\"] if len(i[\"markets\"])>0]\n",
    "    collaterals.append(m_dict[k])\n",
    "    values.append(np.sum([i[\"markets\"][0][\"collateral\"] for i in users_with_markets if i[\"markets\"][0][\"market\"]==k ]))\n",
    "df_collaterals = pd.DataFrame({\"collateral\": collaterals, \"value\": values})\n",
    "df_collaterals_ns = df_collaterals[~df_collaterals.collateral.isin([\"DAI\",\"USDC\",\"USDT\",\"TUSD\"])]\n",
    "df_collaterals_ns.value = df_collaterals_ns.value/df_collaterals_ns.value.sum()\n",
    "\n",
    "ratio_eth = df_collaterals_ns[df_collaterals_ns.collateral==\"ETH\"].values[0][1]\n",
    "\n",
    "# discount stablecoins\n",
    "stable_coins_markets = [\"0x5d3a536E4D6DbD6114cc1Ead35777bAB948E3643\",\"0x39AA39c021dfbaE8faC545936693aC917d5E7563\",\n",
    "                        \"0xf650C3d88D12dB855b8bf7D11Be6C55A4e07dCC9\",\"0x12392F67bdf24faE0AF363c24aC620a2f67DAd86\"]\n",
    "\n",
    "def get_stable_coins (x):\n",
    "    return np.sum([i[\"collateral\"] for i in x[\"markets\"] if i[\"market\"] in stable_coins_markets])\n",
    "\n",
    "\n",
    "users_with_markets_and_stable_collat = [\n",
    "    {**user_data, **{\"stable_collateral\": get_stable_coins(user_data)}} \n",
    "    for user_data in users_with_markets\n",
    "]\n",
    "\n",
    "users_with_markets_and_stable_collat_with_liquidation = [\n",
    "    {**user_data, **{\"liquidation_value\": (user_data[\"debt\"]-(user_data[\"stable_collateral\"]))/LIQUIDATION_THESHOLD}} \n",
    "    for user_data in users_with_markets_and_stable_collat\n",
    "]\n",
    "\n",
    "users_with_markets_and_stable_collat_with_liquidation = [u for u in users_with_markets_and_stable_collat_with_liquidation if u[\"liquidation_value\"]>0]\n",
    "\n",
    "def get_liquidation_percentage(x, y):\n",
    "    return y/x\n",
    "\n",
    "users_with_markets_and_stable_collat_with_liquidation = [\n",
    "    {**user_data, **{\"liquidation_perc\": get_liquidation_percentage(user_data[\"collateral\"]-user_data[\"stable_collateral\"],user_data[\"liquidation_value\"])}} \n",
    "    for user_data in users_with_markets_and_stable_collat_with_liquidation\n",
    "]\n",
    "\n",
    "df_users = pd.DataFrame(users_with_markets_and_stable_collat_with_liquidation)\n",
    "df_users['eth_collateral'] = df_users['collateral'] - df_users[\"stable_collateral\"]\n",
    "df_users = df_users[(df_users.eth_collateral>0)&(df_users.netValue>0)].sort_values(\"liquidation_perc\",ascending=False)\n",
    "\n",
    "df_users['total_liquidation'] = df_users['eth_collateral'].cumsum()*ratio_eth # the amount of ETH that will be liquidated and sold is 80% of the collateral\n",
    "df_users[\"price_change\"] = 1 - df_users[\"liquidation_perc\"]\n",
    "\n",
    "df_users['liquidation_slippage'] = get_slippage_dollars(df_users['total_liquidation']/RATIO_COMPOUND_INDUSTRY,total_market) # tenemos que añadir la proporcion de esto del mercado \n",
    "df_users['price_after_slippage'] = df_users['liquidation_perc']*df_users['liquidation_slippage']\n",
    "\n",
    "df_users[[\"price_change\",\"total_liquidation\",\"liquidation_slippage\"]].to_json(\"output/slippage_curves.json\")"
   ]
  }
 ],
 "metadata": {
  "kernelspec": {
   "display_name": "Python 3.9.13 ('investigations-l37Vbzt9')",
   "language": "python",
   "name": "python3"
  },
  "language_info": {
   "codemirror_mode": {
    "name": "ipython",
    "version": 3
   },
   "file_extension": ".py",
   "mimetype": "text/x-python",
   "name": "python",
   "nbconvert_exporter": "python",
   "pygments_lexer": "ipython3",
   "version": "3.9.13"
  },
  "orig_nbformat": 4,
  "vscode": {
   "interpreter": {
    "hash": "2d83dfa7e2fd6263b682ee3e8debd3c4f9fb39dd5e84162ba9ba6503f35a1b1a"
   }
  }
 },
 "nbformat": 4,
 "nbformat_minor": 2
}
