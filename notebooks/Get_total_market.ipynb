{
 "cells": [
  {
   "cell_type": "code",
   "execution_count": 418,
   "metadata": {},
   "outputs": [],
   "source": [
    "import pandas as pd\n",
    "import seaborn as sns\n",
    "import json \n",
    "import numpy as np\n",
    "from collections import OrderedDict\n",
    "from scipy import interpolate\n"
   ]
  },
  {
   "cell_type": "markdown",
   "metadata": {},
   "source": [
    "# Get Market depth and slippage model"
   ]
  },
  {
   "cell_type": "code",
   "execution_count": 541,
   "metadata": {},
   "outputs": [
    {
     "name": "stdout",
     "output_type": "stream",
     "text": [
      "Total Market depth 34420437392.0\n"
     ]
    },
    {
     "name": "stderr",
     "output_type": "stream",
     "text": [
      "/tmp/ipykernel_5680/2941934132.py:2: FutureWarning: The default value of regex will change from True to False in a future version. In addition, single character regular expressions will *not* be treated as literal strings when regex=True.\n",
      "  df[\"2% Depth\"] = pd.to_numeric(df[\"2% Depth\"].str.replace(\",\",\"\").str.replace(\"$\",\"\"))\n",
      "/tmp/ipykernel_5680/2941934132.py:3: FutureWarning: The default value of regex will change from True to False in a future version. In addition, single character regular expressions will *not* be treated as literal strings when regex=True.\n",
      "  df[\"-2% Depth\"] = pd.to_numeric(df[\"-2% Depth\"].str.replace(\",\",\"\").str.replace(\"$\",\"\"))\n"
     ]
    }
   ],
   "source": [
    "df = pd.read_csv(\"additional_data/Total market.csv\")\n",
    "df[\"2% Depth\"] = pd.to_numeric(df[\"2% Depth\"].str.replace(\",\",\"\").str.replace(\"$\",\"\"))\n",
    "df[\"-2% Depth\"] = pd.to_numeric(df[\"-2% Depth\"].str.replace(\",\",\"\").str.replace(\"$\",\"\"))\n",
    "df.head(2)\n",
    "\n",
    "def get_total_market_1(x):\n",
    "    return x*1.02*100\n",
    "\n",
    "def get_total_market_2(x):\n",
    "    return x*0.98*100\n",
    "\n",
    "df[\"Total market 1\"] = df[\"2% Depth\"].apply(get_total_market_2)\n",
    "df[\"Total market 2\"] = df[\"-2% Depth\"].apply(get_total_market_1)\n",
    "df[\"Total market\"] = (df[\"Total market 1\"] + df[\"Total market 2\"])/2\n",
    "\n",
    "total_market = df[df.Pair.str.contains(\"/US\")][\"Total market\"].sum()\n",
    "print(\"Total Market depth\", total_market)"
   ]
  },
  {
   "cell_type": "code",
   "execution_count": 543,
   "metadata": {},
   "outputs": [
    {
     "name": "stderr",
     "output_type": "stream",
     "text": [
      "/home/alejandro/.local/share/virtualenvs/investigations-l37Vbzt9/lib/python3.9/site-packages/seaborn/_decorators.py:36: FutureWarning: Pass the following variables as keyword args: x, y. From version 0.12, the only valid positional argument will be `data`, and passing other arguments without an explicit keyword will result in an error or misinterpretation.\n",
      "  warnings.warn(\n"
     ]
    },
    {
     "data": {
      "text/plain": [
       "<AxesSubplot:>"
      ]
     },
     "execution_count": 543,
     "metadata": {},
     "output_type": "execute_result"
    },
    {
     "data": {
      "image/png": "[encoded data removed]",
      "text/plain": [
       "<Figure size 432x288 with 1 Axes>"
      ]
     },
     "metadata": {
      "needs_background": "light"
     },
     "output_type": "display_data"
    }
   ],
   "source": [
    "def get_slippage_dollars(x,market):\n",
    "    return 1/(1+2*x/market)\n",
    "k = 49165592\n",
    "sns.lineplot([k, k*2, k*3, k*4, k*5, ],[get_slippage_dollars(x,total_market) for x in [k, k*3, k*9, k*27, k*72, ]])"
   ]
  },
  {
   "cell_type": "markdown",
   "metadata": {},
   "source": [
    "# Transform compound data to debt curve and  slippage"
   ]
  },
  {
   "cell_type": "code",
   "execution_count": 449,
   "metadata": {},
   "outputs": [
    {
     "data": {
      "text/plain": [
       "{'0x6C8c6b02E7b2BE14d4fA6022Dfd6d75921D90E4E': 'BAT',\n",
       " '0x5d3a536E4D6DbD6114cc1Ead35777bAB948E3643': 'DAI',\n",
       " '0x4Ddc2D193948926D02f9B1fE9e1daa0718270ED5': 'ETH',\n",
       " '0x158079Ee67Fce2f58472A96584A73C7Ab9AC95c1': 'REP',\n",
       " '0x39AA39c021dfbaE8faC545936693aC917d5E7563': 'USDC',\n",
       " '0xf650C3d88D12dB855b8bf7D11Be6C55A4e07dCC9': 'USDT',\n",
       " '0xC11b1268C1A384e55C48c2391d8d480264A3A7F4': 'WBTC',\n",
       " '0xB3319f5D18Bc0D84dD1b4825Dcde5d5f7266d407': 'ZRX',\n",
       " '0xF5DCe57282A584D2746FaF1593d3121Fcac444dC': 'unknown',\n",
       " '0x35A18000230DA775CAc24873d00Ff85BccdeD550': 'UNI',\n",
       " '0x70e36f6BF80a52b3B46b3aF8e106CC0ed743E8e4': 'COMP',\n",
       " '0xccF4429DB6322D5C611ee964527D42E5d685DD6a': 'WBTC',\n",
       " '0x12392F67bdf24faE0AF363c24aC620a2f67DAd86': 'TUSD',\n",
       " '0xFAce851a4921ce59e912d19329929CE6da6EB0c7': 'LINK',\n",
       " '0x95b4eF2869eBD94BEb4eEE400a99824BF5DC325b': 'unknown',\n",
       " '0x4B0181102A0112A2ef11AbEE5563bb4a3176c9d7': 'SUSHI',\n",
       " '0xe65cdB6479BaC1e22340E4E755fAE7E509EcD06c': 'AAVE',\n",
       " '0x80a2AE356fc9ef4305676f7a3E2Ed04e12C33946': 'YFI',\n",
       " '0x041171993284df560249B57358F931D9eB7b925D': 'USDP',\n",
       " '0x7713DD9Ca933848F6819F38B8352D9A15EA73F67': 'FEI'}"
      ]
     },
     "execution_count": 449,
     "metadata": {},
     "output_type": "execute_result"
    }
   ],
   "source": [
    "eth_compound = json.load(open(\"additional_data/ethereum_compound.json\"))\n",
    "m_status = json.load(open(\"additional_data/compmound_markets_status.json\"))\n",
    "m_dict = dict(zip([i  for i in m_status], [m_status[i][\"symbol\"] for i in m_status]))\n",
    "m_dict"
   ]
  },
  {
   "cell_type": "code",
   "execution_count": 461,
   "metadata": {},
   "outputs": [
    {
     "name": "stderr",
     "output_type": "stream",
     "text": [
      "/tmp/ipykernel_5680/1802477844.py:10: SettingWithCopyWarning: \n",
      "A value is trying to be set on a copy of a slice from a DataFrame.\n",
      "Try using .loc[row_indexer,col_indexer] = value instead\n",
      "\n",
      "See the caveats in the documentation: https://pandas.pydata.org/pandas-docs/stable/user_guide/indexing.html#returning-a-view-versus-a-copy\n",
      "  df_collaterals_ns.value = df_collaterals_ns.value/df_collaterals_ns.value.sum()\n"
     ]
    }
   ],
   "source": [
    "# get the amount of collateral\n",
    "collaterals = []\n",
    "values = []\n",
    "for k in m_dict.keys(): \n",
    "    users_with_markets = [i for i in eth_compound[\"users\"] if len(i[\"markets\"])>0]\n",
    "    collaterals.append(m_dict[k])\n",
    "    values.append(np.sum([i[\"markets\"][0][\"collateral\"] for i in users_with_markets if i[\"markets\"][0][\"market\"]==k ]))\n",
    "df_collaterals = pd.DataFrame({\"collateral\": collaterals, \"value\": values})\n",
    "df_collaterals_ns = df_collaterals[~df_collaterals.collateral.isin([\"DAI\",\"USDC\",\"USDT\",\"TUSD\"])]\n",
    "df_collaterals_ns.value = df_collaterals_ns.value/df_collaterals_ns.value.sum()"
   ]
  },
  {
   "cell_type": "code",
   "execution_count": 451,
   "metadata": {},
   "outputs": [
    {
     "data": {
      "text/html": [
       "<div>\n",
       "<style scoped>\n",
       "    .dataframe tbody tr th:only-of-type {\n",
       "        vertical-align: middle;\n",
       "    }\n",
       "\n",
       "    .dataframe tbody tr th {\n",
       "        vertical-align: top;\n",
       "    }\n",
       "\n",
       "    .dataframe thead th {\n",
       "        text-align: right;\n",
       "    }\n",
       "</style>\n",
       "<table border=\"1\" class=\"dataframe\">\n",
       "  <thead>\n",
       "    <tr style=\"text-align: right;\">\n",
       "      <th></th>\n",
       "      <th>collateral</th>\n",
       "      <th>value</th>\n",
       "    </tr>\n",
       "  </thead>\n",
       "  <tbody>\n",
       "    <tr>\n",
       "      <th>0</th>\n",
       "      <td>BAT</td>\n",
       "      <td>0.028310</td>\n",
       "    </tr>\n",
       "    <tr>\n",
       "      <th>2</th>\n",
       "      <td>ETH</td>\n",
       "      <td>0.766361</td>\n",
       "    </tr>\n",
       "    <tr>\n",
       "      <th>3</th>\n",
       "      <td>REP</td>\n",
       "      <td>0.000001</td>\n",
       "    </tr>\n",
       "    <tr>\n",
       "      <th>6</th>\n",
       "      <td>WBTC</td>\n",
       "      <td>0.009426</td>\n",
       "    </tr>\n",
       "    <tr>\n",
       "      <th>7</th>\n",
       "      <td>ZRX</td>\n",
       "      <td>0.002876</td>\n",
       "    </tr>\n",
       "    <tr>\n",
       "      <th>8</th>\n",
       "      <td>unknown</td>\n",
       "      <td>0.000551</td>\n",
       "    </tr>\n",
       "    <tr>\n",
       "      <th>9</th>\n",
       "      <td>UNI</td>\n",
       "      <td>0.001242</td>\n",
       "    </tr>\n",
       "    <tr>\n",
       "      <th>10</th>\n",
       "      <td>COMP</td>\n",
       "      <td>0.052735</td>\n",
       "    </tr>\n",
       "    <tr>\n",
       "      <th>11</th>\n",
       "      <td>WBTC</td>\n",
       "      <td>0.135325</td>\n",
       "    </tr>\n",
       "    <tr>\n",
       "      <th>13</th>\n",
       "      <td>LINK</td>\n",
       "      <td>0.001719</td>\n",
       "    </tr>\n",
       "    <tr>\n",
       "      <th>14</th>\n",
       "      <td>unknown</td>\n",
       "      <td>0.000187</td>\n",
       "    </tr>\n",
       "    <tr>\n",
       "      <th>15</th>\n",
       "      <td>SUSHI</td>\n",
       "      <td>0.000056</td>\n",
       "    </tr>\n",
       "    <tr>\n",
       "      <th>16</th>\n",
       "      <td>AAVE</td>\n",
       "      <td>0.000164</td>\n",
       "    </tr>\n",
       "    <tr>\n",
       "      <th>17</th>\n",
       "      <td>YFI</td>\n",
       "      <td>0.001046</td>\n",
       "    </tr>\n",
       "    <tr>\n",
       "      <th>18</th>\n",
       "      <td>USDP</td>\n",
       "      <td>0.000000</td>\n",
       "    </tr>\n",
       "    <tr>\n",
       "      <th>19</th>\n",
       "      <td>FEI</td>\n",
       "      <td>0.000000</td>\n",
       "    </tr>\n",
       "  </tbody>\n",
       "</table>\n",
       "</div>"
      ],
      "text/plain": [
       "   collateral     value\n",
       "0         BAT  0.028310\n",
       "2         ETH  0.766361\n",
       "3         REP  0.000001\n",
       "6        WBTC  0.009426\n",
       "7         ZRX  0.002876\n",
       "8     unknown  0.000551\n",
       "9         UNI  0.001242\n",
       "10       COMP  0.052735\n",
       "11       WBTC  0.135325\n",
       "13       LINK  0.001719\n",
       "14    unknown  0.000187\n",
       "15      SUSHI  0.000056\n",
       "16       AAVE  0.000164\n",
       "17        YFI  0.001046\n",
       "18       USDP  0.000000\n",
       "19        FEI  0.000000"
      ]
     },
     "execution_count": 451,
     "metadata": {},
     "output_type": "execute_result"
    }
   ],
   "source": [
    "df_collaterals_ns #everything not stable coin will be first modelled as 80%ETH and 20% BTC, and we will assume that the price of ETH and BTC is fully correlated"
   ]
  },
  {
   "cell_type": "markdown",
   "metadata": {},
   "source": [
    "## Get debt curve and slippage"
   ]
  },
  {
   "cell_type": "code",
   "execution_count": 452,
   "metadata": {},
   "outputs": [],
   "source": [
    "users_with_markets = [i for i in eth_compound[\"users\"] if len(i[\"markets\"])>0]"
   ]
  },
  {
   "cell_type": "code",
   "execution_count": 544,
   "metadata": {},
   "outputs": [
    {
     "name": "stderr",
     "output_type": "stream",
     "text": [
      "/tmp/ipykernel_5680/1490585635.py:28: RuntimeWarning: divide by zero encountered in double_scalars\n",
      "  return y/x\n",
      "/home/alejandro/.local/share/virtualenvs/investigations-l37Vbzt9/lib/python3.9/site-packages/seaborn/_decorators.py:36: FutureWarning: Pass the following variables as keyword args: x, y. From version 0.12, the only valid positional argument will be `data`, and passing other arguments without an explicit keyword will result in an error or misinterpretation.\n",
      "  warnings.warn(\n",
      "/home/alejandro/.local/share/virtualenvs/investigations-l37Vbzt9/lib/python3.9/site-packages/seaborn/_decorators.py:36: FutureWarning: Pass the following variables as keyword args: x, y. From version 0.12, the only valid positional argument will be `data`, and passing other arguments without an explicit keyword will result in an error or misinterpretation.\n",
      "  warnings.warn(\n"
     ]
    },
    {
     "data": {
      "text/plain": [
       "<AxesSubplot:xlabel='Cum sum liquidate', ylabel='Value_Perc'>"
      ]
     },
     "execution_count": 544,
     "metadata": {},
     "output_type": "execute_result"
    },
    {
     "data": {
      "image/png": "[encoded data removed]",
      "text/plain": [
       "<Figure size 432x288 with 1 Axes>"
      ]
     },
     "metadata": {
      "needs_background": "light"
     },
     "output_type": "display_data"
    }
   ],
   "source": [
    "# We need to discount stablecoins\n",
    "stable_coins_markets = [\"0x5d3a536E4D6DbD6114cc1Ead35777bAB948E3643\",\"0x39AA39c021dfbaE8faC545936693aC917d5E7563\",\n",
    "                        \"0xf650C3d88D12dB855b8bf7D11Be6C55A4e07dCC9\",\"0x12392F67bdf24faE0AF363c24aC620a2f67DAd86\"]\n",
    "\n",
    "def get_stable_coins (x):\n",
    "    return np.sum([i[\"collateral\"] for i in x[\"markets\"] if i[\"market\"] in stable_coins_markets])\n",
    "\n",
    "\n",
    "users_with_markets_and_stable_collat = [\n",
    "    {**user_data, **{\"stable_collateral\": get_stable_coins(user_data)}} \n",
    "    for user_data in users_with_markets\n",
    "]\n",
    "\n",
    "\n",
    "#empezamos con el hipotetico caso de que se liquida cuando hay un 100% del colateral  como deuda\n",
    "def get_liquidation_value(x, LTV = 0.85):\n",
    "    return x/LTV\n",
    "\n",
    "users_with_markets_and_stable_collat_with_liquidation = [\n",
    "    {**user_data, **{\"liquidation_value\": get_liquidation_value(user_data[\"debt\"]-(user_data[\"stable_collateral\"]))}} \n",
    "    for user_data in users_with_markets_and_stable_collat\n",
    "]\n",
    "\n",
    "users_with_markets_and_stable_collat_with_liquidation = [u for u in users_with_markets_and_stable_collat_with_liquidation if u[\"liquidation_value\"]>0]\n",
    "\n",
    "# lets get the perc of the asset current price needed to trigger liquidation and the volume of that liquidation\n",
    "def get_liquidation_percentage(x, y):\n",
    "    return y/x\n",
    "\n",
    "users_with_markets_and_stable_collat_with_liquidation = [\n",
    "    {**user_data, **{\"liquidation_perc\": get_liquidation_percentage(user_data[\"collateral\"]-user_data[\"stable_collateral\"],user_data[\"liquidation_value\"])}} \n",
    "    for user_data in users_with_markets_and_stable_collat_with_liquidation\n",
    "]\n",
    "\n",
    "df_users = pd.DataFrame(users_with_markets_and_stable_collat_with_liquidation)\n",
    "df_users['eth_collateral'] = df_users['collateral'] - df_users[\"stable_collateral\"]\n",
    "df_users = df_users[(df_users.eth_collateral>0)&(df_users.netValue>0)].sort_values(\"liquidation_perc\",ascending=False)\n",
    "RATIO_ETH_COLLATERAL = 0.8\n",
    "#df_users = df_users[df_users[\"liquidation_perc\"]<1].sort_values(\"liquidation_perc\",ascending=False)\n",
    "df_users['Cum sum liquidate'] = df_users['eth_collateral'].cumsum()*RATIO_ETH_COLLATERAL # the amount of ETH that will be liquidated and sold is 80% of the collateral\n",
    "df_users[\"Value_Perc\"] = df_users[\"liquidation_perc\"]\n",
    "RATIO_COMPOUND_INDSUTRY = 0.1\n",
    "df_users['Slippage liquidate'] = get_slippage_dollars(df_users['Cum sum liquidate']/RATIO_COMPOUND_INDSUTRY,total_market) # tenemos que añadir la proporcion de esto del mercado \n",
    "df_users['After Slippage effect'] = df_users['Value_Perc']*df_users['Slippage liquidate']\n",
    "df_users[\"non_stable_coll\"] = df_users[\"collateral\"] - df_users[\"stable_collateral\"]\n",
    "\n",
    "\n",
    "sns.lineplot(df_users[\"Cum sum liquidate\"],df_users[\"Value_Perc\"], label=\"Liquidated amount\")\n",
    "sns.lineplot(df_users[\"Cum sum liquidate\"],df_users[\"After Slippage effect\"])"
   ]
  },
  {
   "cell_type": "code",
   "execution_count": 540,
   "metadata": {},
   "outputs": [
    {
     "name": "stderr",
     "output_type": "stream",
     "text": [
      "/home/alejandro/.local/share/virtualenvs/investigations-l37Vbzt9/lib/python3.9/site-packages/seaborn/_decorators.py:36: FutureWarning: Pass the following variables as keyword args: x, y. From version 0.12, the only valid positional argument will be `data`, and passing other arguments without an explicit keyword will result in an error or misinterpretation.\n",
      "  warnings.warn(\n",
      "/home/alejandro/.local/share/virtualenvs/investigations-l37Vbzt9/lib/python3.9/site-packages/seaborn/_decorators.py:36: FutureWarning: Pass the following variables as keyword args: x, y. From version 0.12, the only valid positional argument will be `data`, and passing other arguments without an explicit keyword will result in an error or misinterpretation.\n",
      "  warnings.warn(\n"
     ]
    },
    {
     "data": {
      "text/plain": [
       "<AxesSubplot:xlabel='Value_Perc', ylabel='Cum sum liquidate'>"
      ]
     },
     "execution_count": 540,
     "metadata": {},
     "output_type": "execute_result"
    },
    {
     "data": {
      "image/png": "[encoded data removed]",
      "text/plain": [
       "<Figure size 432x288 with 1 Axes>"
      ]
     },
     "metadata": {
      "needs_background": "light"
     },
     "output_type": "display_data"
    }
   ],
   "source": [
    "sns.lineplot(df_users[\"Value_Perc\"],df_users[\"Cum sum liquidate\"], label=\"Liquidated amount\")\n",
    "sns.lineplot(df_users[\"After Slippage effect\"],df_users[\"Cum sum liquidate\"])"
   ]
  },
  {
   "cell_type": "code",
   "execution_count": 537,
   "metadata": {},
   "outputs": [
    {
     "name": "stderr",
     "output_type": "stream",
     "text": [
      "/home/alejandro/.local/share/virtualenvs/investigations-l37Vbzt9/lib/python3.9/site-packages/seaborn/_decorators.py:36: FutureWarning: Pass the following variables as keyword args: x, y. From version 0.12, the only valid positional argument will be `data`, and passing other arguments without an explicit keyword will result in an error or misinterpretation.\n",
      "  warnings.warn(\n",
      "/home/alejandro/.local/share/virtualenvs/investigations-l37Vbzt9/lib/python3.9/site-packages/seaborn/_decorators.py:36: FutureWarning: Pass the following variables as keyword args: x, y. From version 0.12, the only valid positional argument will be `data`, and passing other arguments without an explicit keyword will result in an error or misinterpretation.\n",
      "  warnings.warn(\n"
     ]
    },
    {
     "data": {
      "text/plain": [
       "<AxesSubplot:xlabel='Value_Perc', ylabel='Cum sum liquidate'>"
      ]
     },
     "execution_count": 537,
     "metadata": {},
     "output_type": "execute_result"
    },
    {
     "data": {
      "image/png": "[encoded data removed]",
      "text/plain": [
       "<Figure size 432x288 with 1 Axes>"
      ]
     },
     "metadata": {
      "needs_background": "light"
     },
     "output_type": "display_data"
    }
   ],
   "source": [
    "sns.lineplot(df_users[df_users[\"Value_Perc\"]>0.6][\"Value_Perc\"],df_users[df_users[\"Value_Perc\"]>0.6][\"Cum sum liquidate\"], label=\"Liquidated amount\")\n",
    "sns.lineplot(df_users[df_users[\"Value_Perc\"]>0.6][\"After Slippage effect\"],df_users[df_users[\"Value_Perc\"]>0.6][\"Cum sum liquidate\"])"
   ]
  },
  {
   "cell_type": "code",
   "execution_count": 508,
   "metadata": {},
   "outputs": [
    {
     "data": {
      "text/html": [
       "<div>\n",
       "<style scoped>\n",
       "    .dataframe tbody tr th:only-of-type {\n",
       "        vertical-align: middle;\n",
       "    }\n",
       "\n",
       "    .dataframe tbody tr th {\n",
       "        vertical-align: top;\n",
       "    }\n",
       "\n",
       "    .dataframe thead th {\n",
       "        text-align: right;\n",
       "    }\n",
       "</style>\n",
       "<table border=\"1\" class=\"dataframe\">\n",
       "  <thead>\n",
       "    <tr style=\"text-align: right;\">\n",
       "      <th></th>\n",
       "      <th>Value_Perc</th>\n",
       "      <th>Cum sum liquidate</th>\n",
       "      <th>Slippage liquidate</th>\n",
       "      <th>After Slippage effect</th>\n",
       "    </tr>\n",
       "  </thead>\n",
       "  <tbody>\n",
       "    <tr>\n",
       "      <th>5659</th>\n",
       "      <td>9.993469e-01</td>\n",
       "      <td>2.388098e+01</td>\n",
       "      <td>1.00000</td>\n",
       "      <td>9.993469e-01</td>\n",
       "    </tr>\n",
       "    <tr>\n",
       "      <th>5101</th>\n",
       "      <td>9.985916e-01</td>\n",
       "      <td>2.637591e+01</td>\n",
       "      <td>1.00000</td>\n",
       "      <td>9.985916e-01</td>\n",
       "    </tr>\n",
       "    <tr>\n",
       "      <th>308</th>\n",
       "      <td>9.984256e-01</td>\n",
       "      <td>2.638277e+01</td>\n",
       "      <td>1.00000</td>\n",
       "      <td>9.984256e-01</td>\n",
       "    </tr>\n",
       "    <tr>\n",
       "      <th>760</th>\n",
       "      <td>9.971355e-01</td>\n",
       "      <td>6.039825e+01</td>\n",
       "      <td>1.00000</td>\n",
       "      <td>9.971355e-01</td>\n",
       "    </tr>\n",
       "    <tr>\n",
       "      <th>1518</th>\n",
       "      <td>9.940692e-01</td>\n",
       "      <td>6.040672e+01</td>\n",
       "      <td>1.00000</td>\n",
       "      <td>9.940692e-01</td>\n",
       "    </tr>\n",
       "    <tr>\n",
       "      <th>...</th>\n",
       "      <td>...</td>\n",
       "      <td>...</td>\n",
       "      <td>...</td>\n",
       "      <td>...</td>\n",
       "    </tr>\n",
       "    <tr>\n",
       "      <th>251</th>\n",
       "      <td>1.973963e-12</td>\n",
       "      <td>7.767154e+08</td>\n",
       "      <td>0.81589</td>\n",
       "      <td>1.610537e-12</td>\n",
       "    </tr>\n",
       "    <tr>\n",
       "      <th>6178</th>\n",
       "      <td>1.028946e-12</td>\n",
       "      <td>7.767154e+08</td>\n",
       "      <td>0.81589</td>\n",
       "      <td>8.395069e-13</td>\n",
       "    </tr>\n",
       "    <tr>\n",
       "      <th>2123</th>\n",
       "      <td>4.058214e-14</td>\n",
       "      <td>7.767155e+08</td>\n",
       "      <td>0.81589</td>\n",
       "      <td>3.311056e-14</td>\n",
       "    </tr>\n",
       "    <tr>\n",
       "      <th>4205</th>\n",
       "      <td>1.140817e-15</td>\n",
       "      <td>7.767156e+08</td>\n",
       "      <td>0.81589</td>\n",
       "      <td>9.307816e-16</td>\n",
       "    </tr>\n",
       "    <tr>\n",
       "      <th>2678</th>\n",
       "      <td>6.770571e-19</td>\n",
       "      <td>7.767156e+08</td>\n",
       "      <td>0.81589</td>\n",
       "      <td>5.524042e-19</td>\n",
       "    </tr>\n",
       "  </tbody>\n",
       "</table>\n",
       "<p>5623 rows × 4 columns</p>\n",
       "</div>"
      ],
      "text/plain": [
       "        Value_Perc  Cum sum liquidate  Slippage liquidate  \\\n",
       "5659  9.993469e-01       2.388098e+01             1.00000   \n",
       "5101  9.985916e-01       2.637591e+01             1.00000   \n",
       "308   9.984256e-01       2.638277e+01             1.00000   \n",
       "760   9.971355e-01       6.039825e+01             1.00000   \n",
       "1518  9.940692e-01       6.040672e+01             1.00000   \n",
       "...            ...                ...                 ...   \n",
       "251   1.973963e-12       7.767154e+08             0.81589   \n",
       "6178  1.028946e-12       7.767154e+08             0.81589   \n",
       "2123  4.058214e-14       7.767155e+08             0.81589   \n",
       "4205  1.140817e-15       7.767156e+08             0.81589   \n",
       "2678  6.770571e-19       7.767156e+08             0.81589   \n",
       "\n",
       "      After Slippage effect  \n",
       "5659           9.993469e-01  \n",
       "5101           9.985916e-01  \n",
       "308            9.984256e-01  \n",
       "760            9.971355e-01  \n",
       "1518           9.940692e-01  \n",
       "...                     ...  \n",
       "251            1.610537e-12  \n",
       "6178           8.395069e-13  \n",
       "2123           3.311056e-14  \n",
       "4205           9.307816e-16  \n",
       "2678           5.524042e-19  \n",
       "\n",
       "[5623 rows x 4 columns]"
      ]
     },
     "execution_count": 508,
     "metadata": {},
     "output_type": "execute_result"
    }
   ],
   "source": [
    "df_users[[\"Value_Perc\",\"Cum sum liquidate\",'Slippage liquidate',\"After Slippage effect\"]]"
   ]
  },
  {
   "cell_type": "code",
   "execution_count": 521,
   "metadata": {},
   "outputs": [],
   "source": [
    "x_price_movement = 1-df_users[\"Value_Perc\"]\n",
    "y_liquidation = df_users[\"Cum sum liquidate\"]\n",
    "f_liquidation = interpolate.interp1d(x_price_movement, y_liquidation)\n",
    "\n",
    "y_price_after_slippage = 1 - df_users[\"After Slippage effect\"]\n",
    "f_price_after_slippage = interpolate.interp1d(x_price_movement, y_price_after_slippage)"
   ]
  },
  {
   "cell_type": "code",
   "execution_count": 530,
   "metadata": {},
   "outputs": [
    {
     "data": {
      "text/plain": [
       "array(1.34350554e+08)"
      ]
     },
     "execution_count": 530,
     "metadata": {},
     "output_type": "execute_result"
    }
   ],
   "source": [
    "f_liquidation(0.5)"
   ]
  },
  {
   "cell_type": "code",
   "execution_count": 528,
   "metadata": {},
   "outputs": [
    {
     "data": {
      "text/plain": [
       "array(0.91809126)"
      ]
     },
     "execution_count": 528,
     "metadata": {},
     "output_type": "execute_result"
    }
   ],
   "source": [
    "f_price_after_slippage(0.9)"
   ]
  }
 ],
 "metadata": {
  "kernelspec": {
   "display_name": "Python 3.9.13 ('investigations-l37Vbzt9')",
   "language": "python",
   "name": "python3"
  },
  "language_info": {
   "codemirror_mode": {
    "name": "ipython",
    "version": 3
   },
   "file_extension": ".py",
   "mimetype": "text/x-python",
   "name": "python",
   "nbconvert_exporter": "python",
   "pygments_lexer": "ipython3",
   "version": "3.9.13"
  },
  "orig_nbformat": 4,
  "vscode": {
   "interpreter": {
    "hash": "2d83dfa7e2fd6263b682ee3e8debd3c4f9fb39dd5e84162ba9ba6503f35a1b1a"
   }
  }
 },
 "nbformat": 4,
 "nbformat_minor": 2
}
